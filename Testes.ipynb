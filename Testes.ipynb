{
  "cells": [
    {
      "cell_type": "markdown",
      "metadata": {
        "id": "view-in-github",
        "colab_type": "text"
      },
      "source": [
        "<a href=\"https://colab.research.google.com/github/regisalbuquerque/projeto_pesquisa_ti/blob/main/Testes.ipynb\" target=\"_parent\"><img src=\"https://colab.research.google.com/assets/colab-badge.svg\" alt=\"Open In Colab\"/></a>"
      ]
    },
    {
      "cell_type": "markdown",
      "metadata": {
        "id": "rXrQ5G7qbkKg"
      },
      "source": [
        "# Métricas de Teste\n",
        "\n",
        "**Acurácia**: Mede o quão frequente um classificador está correto?\n",
        "\n",
        "```\n",
        "Acurácia = quantidade de acerto / (quantidade de acertos - quantidade de erros)\n",
        "```\n",
        "\n",
        "**Matriz de Confusão**: Consiste em uma tabela que permite visualizar o desempenho de um algoritmo de classificação. As linhas da matriz representam instâncias de uma classe prevista enquanto as colunas representa instâncias da classe atual. Ela permite fazermos uma análise mais detalhada da situação do nosso classificador uma vez que ela distingue nossos resultados em quatro classes. Para um problema relacionado a identificação se determinado e-mail é spam ou não:\n",
        "\n",
        "```\n",
        "*   Verdadeiros Positivos(True positive): casos em que retornamos a classe SPAM e o e-mail realmente era de spam.\n",
        "*   Falsos positivos(False positives): casos em que retornamos a classe SPAM e na verdade eram e-mails comuns.\n",
        "*   Falsos Verdadeiros (True Negative): casos que retornamos que era e-mail comum (ausência de spam) e realmente eram.\n",
        "*   Falsos Negativos (False Negative): retornamos que não eram spam e na verdade eram spam.\n",
        "\n",
        "```\n",
        "\n",
        "**Precisão**: De todas as classificações de classe Positivo que o modelo fez, quantas estão corretas? A fórmula é dada por:\n",
        "\n",
        "```\n",
        "Precisão = Verdadeiros Positivos / (Verdadeiros Positivos + Falsos Positivo)\n",
        "```\n",
        "\n",
        "**Recall (Revocação)**: Entre todas as amostras que realmente eram de uma classe, qual a proporção classificada como da classe. A fórmula é dada por:\n",
        "\n",
        "```\n",
        "Recall = Verdadeiros Positivos / (Verdadeiros Positivos + Falsos Negativos)\n",
        "```\n",
        "\n",
        "**F1-Score**: Consiste na média harmônica entre precisão e recall. Esta medida une precisão e recall em apenas uma medida.\n",
        "\n",
        "```\n",
        "F1 = 2 * precisão * recall / (precisão + recall)\n",
        "```\n"
      ]
    },
    {
      "cell_type": "markdown",
      "metadata": {
        "id": "s_EpKiGZ7I90"
      },
      "source": [
        "# TestThanTrain\n",
        "\n",
        "Para testar os classificadores com aprendizado em stream nas mais diversas bases selecionamos a técnica TestThanTrain. "
      ]
    },
    {
      "cell_type": "markdown",
      "metadata": {
        "id": "33GqP2nA7WDS"
      },
      "source": [
        "# TESTES"
      ]
    },
    {
      "cell_type": "code",
      "execution_count": 2,
      "metadata": {
        "colab": {
          "base_uri": "https://localhost:8080/"
        },
        "id": "QaA8ENvok3LP",
        "outputId": "27a65212-0cbf-4819-d9b3-27f1acf71df3"
      },
      "outputs": [
        {
          "output_type": "stream",
          "name": "stdout",
          "text": [
            "Looking in indexes: https://pypi.org/simple, https://us-python.pkg.dev/colab-wheels/public/simple/\n",
            "Collecting river\n",
            "  Downloading river-0.10.1-cp37-cp37m-manylinux_2_5_x86_64.manylinux1_x86_64.manylinux_2_17_x86_64.manylinux2014_x86_64.whl (2.0 MB)\n",
            "\u001b[K     |████████████████████████████████| 2.0 MB 31.8 MB/s \n",
            "\u001b[?25hRequirement already satisfied: scipy>=1.4.1 in /usr/local/lib/python3.7/dist-packages (from river) (1.7.3)\n",
            "Requirement already satisfied: pandas>=1.0.1 in /usr/local/lib/python3.7/dist-packages (from river) (1.3.5)\n",
            "Requirement already satisfied: numpy>=1.20.0 in /usr/local/lib/python3.7/dist-packages (from river) (1.21.6)\n",
            "Requirement already satisfied: python-dateutil>=2.7.3 in /usr/local/lib/python3.7/dist-packages (from pandas>=1.0.1->river) (2.8.2)\n",
            "Requirement already satisfied: pytz>=2017.3 in /usr/local/lib/python3.7/dist-packages (from pandas>=1.0.1->river) (2022.1)\n",
            "Requirement already satisfied: six>=1.5 in /usr/local/lib/python3.7/dist-packages (from python-dateutil>=2.7.3->pandas>=1.0.1->river) (1.15.0)\n",
            "Installing collected packages: river\n",
            "Successfully installed river-0.10.1\n"
          ]
        }
      ],
      "source": [
        "pip install river"
      ]
    },
    {
      "cell_type": "code",
      "execution_count": 3,
      "metadata": {
        "id": "yBH559YwlSgE"
      },
      "outputs": [],
      "source": [
        "from river import tree\n",
        "from river import metrics\n",
        "from river import datasets\n",
        "import matplotlib.pyplot as plt\n",
        "\n",
        "dataset_Phissing = datasets.Phishing()\n",
        "dataset_SMTP = datasets.SMTP()\n",
        "dataset_SMSSpam = datasets.SMSSpam()\n"
      ]
    },
    {
      "cell_type": "code",
      "execution_count": null,
      "metadata": {
        "colab": {
          "base_uri": "https://localhost:8080/"
        },
        "id": "TBB3i4t2lj3N",
        "outputId": "261045c2-4f10-4f1a-c3a0-a955d4fe7b02"
      },
      "outputs": [
        {
          "data": {
            "text/plain": [
              "SMTP dataset from the KDD 1999 cup.\n",
              "\n",
              "The goal is to predict whether or not an SMTP connection is anomalous or not. The dataset only\n",
              "contains 2,211 (0.4%) positive labels.\n",
              "\n",
              "      Name  SMTP                                                \n",
              "      Task  Binary classification                               \n",
              "   Samples  95,156                                              \n",
              "  Features  3                                                   \n",
              "    Sparse  False                                               \n",
              "      Path  /root/river_data/SMTP/smtp.csv                      \n",
              "       URL  https://maxhalford.github.io/files/datasets/smtp.zip\n",
              "      Size  5.23 MB                                             \n",
              "Downloaded  False                                               "
            ]
          },
          "execution_count": 9,
          "metadata": {},
          "output_type": "execute_result"
        }
      ],
      "source": [
        "dataset_SMTP"
      ]
    },
    {
      "cell_type": "code",
      "execution_count": 4,
      "metadata": {
        "colab": {
          "base_uri": "https://localhost:8080/",
          "height": 1000
        },
        "id": "AFdupF6ikKdq",
        "outputId": "fe0c1ad0-d134-4677-b0b9-13beaa5f9005"
      },
      "outputs": [
        {
          "output_type": "stream",
          "name": "stdout",
          "text": [
            "------------------------------------------------\n",
            "DataSet:  Phishing websites.\n",
            "Classifier:  HoeffdingTreeClassifier\n",
            "Accuracy: 87.99%\n",
            "Matriz de Confusão:\n",
            "        False   True  \n",
            "False     636     66  \n",
            " True      84    463  \n",
            "Precision: 87.52%\n",
            "Recall: 84.64%\n",
            "F1: 86.06%\n",
            "           Precision   Recall   F1       Support  \n",
            "                                                  \n",
            "   False      88.33%   90.60%   89.45%       702  \n",
            "    True      87.52%   84.64%   86.06%       547  \n",
            "                                                  \n",
            "   Macro      87.93%   87.62%   87.76%            \n",
            "   Micro      87.99%   87.99%   87.99%            \n",
            "Weighted      87.98%   87.99%   87.97%            \n",
            "\n",
            "                 87.99% accuracy                  \n"
          ]
        },
        {
          "output_type": "display_data",
          "data": {
            "text/plain": [
              "<Figure size 432x288 with 1 Axes>"
            ],
            "image/png": "[encoded data removed]"
          },
          "metadata": {
            "needs_background": "light"
          }
        },
        {
          "output_type": "stream",
          "name": "stdout",
          "text": [
            "------------------------------------------------\n",
            "------------------------------------------------\n",
            "DataSet:  Phishing websites.\n",
            "Classifier:  HoeffdingAdaptiveTreeClassifier\n",
            "Accuracy: 87.75%\n",
            "Matriz de Confusão:\n",
            "        False   True  \n",
            "False     617     85  \n",
            " True      68    479  \n",
            "Precision: 84.93%\n",
            "Recall: 87.57%\n",
            "F1: 86.23%\n",
            "           Precision   Recall   F1       Support  \n",
            "                                                  \n",
            "   False      90.07%   87.89%   88.97%       702  \n",
            "    True      84.93%   87.57%   86.23%       547  \n",
            "                                                  \n",
            "   Macro      87.50%   87.73%   87.60%            \n",
            "   Micro      87.75%   87.75%   87.75%            \n",
            "Weighted      87.82%   87.75%   87.77%            \n",
            "\n",
            "                 87.75% accuracy                  \n"
          ]
        },
        {
          "output_type": "display_data",
          "data": {
            "text/plain": [
              "<Figure size 432x288 with 1 Axes>"
            ],
            "image/png": "[encoded data removed]"
          },
          "metadata": {
            "needs_background": "light"
          }
        },
        {
          "output_type": "stream",
          "name": "stdout",
          "text": [
            "------------------------------------------------\n",
            "------------------------------------------------\n",
            "DataSet:  Phishing websites.\n",
            "Classifier:  ExtremelyFastDecisionTreeClassifier\n",
            "Accuracy: 88.79%\n",
            "Matriz de Confusão:\n",
            "        False   True  \n",
            "False     626     76  \n",
            " True      64    483  \n",
            "Precision: 86.40%\n",
            "Recall: 88.30%\n",
            "F1: 87.34%\n",
            "           Precision   Recall   F1       Support  \n",
            "                                                  \n",
            "   False      90.72%   89.17%   89.94%       702  \n",
            "    True      86.40%   88.30%   87.34%       547  \n",
            "                                                  \n",
            "   Macro      88.56%   88.74%   88.64%            \n",
            "   Micro      88.79%   88.79%   88.79%            \n",
            "Weighted      88.83%   88.79%   88.80%            \n",
            "\n",
            "                 88.79% accuracy                  \n"
          ]
        },
        {
          "output_type": "display_data",
          "data": {
            "text/plain": [
              "<Figure size 432x288 with 1 Axes>"
            ],
            "image/png": "[encoded data removed]"
          },
          "metadata": {
            "needs_background": "light"
          }
        },
        {
          "output_type": "stream",
          "name": "stdout",
          "text": [
            "------------------------------------------------\n"
          ]
        }
      ],
      "source": [
        "from river import tree\n",
        "from river import metrics\n",
        "from river import datasets\n",
        "import pandas as pd\n",
        "import matplotlib.pyplot as plt\n",
        "\n",
        "dataset_Phissing = datasets.Phishing()\n",
        "dataset_SMTP = datasets.SMTP()\n",
        "dataset_SMSSpam = datasets.SMSSpam()\n",
        "\n",
        "\n",
        "modelHTC = tree.HoeffdingTreeClassifier()\n",
        "modelHATC = tree.HoeffdingAdaptiveTreeClassifier(seed=1)\n",
        "modelEFDT = tree.ExtremelyFastDecisionTreeClassifier()\n",
        "\n",
        "datasets = [dataset_Phissing]\n",
        "classifiers = [modelHTC, modelHATC, modelEFDT]\n",
        "\n",
        "def test_than_train(dataset, model):\n",
        "    acuracias = []\n",
        "\n",
        "    metric_acuracia = metrics.Accuracy()\n",
        "    metric_m_confusao = metrics.ConfusionMatrix()\n",
        "    metric_precisao = metrics.Precision()\n",
        "    metric_recall = metrics.Recall()\n",
        "    metric_f1 = metrics.F1()\n",
        "    metric_report = metrics.ClassificationReport()\n",
        "\n",
        "    for x, y in dataset:\n",
        "        y_pred = model.predict_one(x)\n",
        "        model.learn_one(x, y)\n",
        "        if y_pred is not None:\n",
        "            acuracias.append(metric_acuracia.update(y, y_pred).get())\n",
        "            metric_m_confusao.update(y, y_pred)\n",
        "            metric_precisao.update(y, y_pred)\n",
        "            metric_recall.update(y, y_pred)\n",
        "            metric_f1.update(y, y_pred)\n",
        "            metric_report.update(y, y_pred)\n",
        "\n",
        "\n",
        "    print(\"------------------------------------------------\")\n",
        "    print(\"DataSet: \", dataset.desc.partition('\\n')[0])\n",
        "    print(\"Classifier: \", model)\n",
        "\n",
        "    print(metric_acuracia)\n",
        "    print(\"Matriz de Confusão:\")\n",
        "    print(metric_m_confusao)\n",
        "    print(metric_precisao)\n",
        "    print(metric_recall)\n",
        "    print(metric_f1)\n",
        "    print(metric_report)\n",
        "\n",
        "    # Plotagem da Acurácia com o decorrer do tempo \n",
        "    plt.plot(acuracias)\n",
        "    plt.title(model)\n",
        "    plt.ylabel('Acurácia')\n",
        "    plt.xlabel('Instâncias')\n",
        "    plt.show()\n",
        "    \n",
        "    print(\"------------------------------------------------\")\n",
        "    \n",
        "    model.draw()\n",
        "\n",
        "for dataset in datasets:\n",
        "  for model in classifiers:\n",
        "    test_than_train(dataset, model)\n",
        "\n"
      ]
    },
    {
      "cell_type": "markdown",
      "metadata": {
        "id": "v-ygfLEH8IgN"
      },
      "source": [
        "REFERÊNCIAS\n",
        "\n",
        "MONTIEL, Jacob et al. River: machine learning for streaming data in Python. 2021.\n",
        "\n",
        "TAVALLAEE, Mahbod et al. A detailed analysis of the KDD CUP 99 data set. In: 2009 IEEE symposium on computational intelligence for security and defense applications. Ieee, 2009. p. 1-6."
      ]
    }
  ],
  "metadata": {
    "accelerator": "GPU",
    "colab": {
      "collapsed_sections": [],
      "name": "Testes.ipynb",
      "provenance": [],
      "include_colab_link": true
    },
    "gpuClass": "standard",
    "kernelspec": {
      "display_name": "Python 3",
      "name": "python3"
    },
    "language_info": {
      "name": "python"
    }
  },
  "nbformat": 4,
  "nbformat_minor": 0
}